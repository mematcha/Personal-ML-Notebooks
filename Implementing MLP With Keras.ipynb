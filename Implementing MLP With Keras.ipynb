{
 "cells": [
  {
   "cell_type": "code",
   "execution_count": 3,
   "metadata": {},
   "outputs": [],
   "source": [
    "import tensorflow as tf\n",
    "from tensorflow import keras\n"
   ]
  },
  {
   "cell_type": "code",
   "execution_count": 4,
   "metadata": {},
   "outputs": [
    {
     "name": "stdout",
     "output_type": "stream",
     "text": [
      "Name: keras\n",
      "Version: 2.15.0\n",
      "Summary: Deep learning for humans.\n",
      "Home-page: https://keras.io/\n",
      "Author: Keras team\n",
      "Author-email: keras-users@googlegroups.com\n",
      "License: Apache 2.0\n",
      "Location: /Users/smatcha/anaconda3/lib/python3.11/site-packages\n",
      "Requires: \n",
      "Required-by: tensorflow-macos\n"
     ]
    }
   ],
   "source": [
    "!pip show keras"
   ]
  },
  {
   "cell_type": "code",
   "execution_count": 5,
   "metadata": {},
   "outputs": [
    {
     "name": "stdout",
     "output_type": "stream",
     "text": [
      "Name: tensorflow\n",
      "Version: 2.15.0\n",
      "Summary: TensorFlow is an open source machine learning framework for everyone.\n",
      "Home-page: https://www.tensorflow.org/\n",
      "Author: Google Inc.\n",
      "Author-email: packages@tensorflow.org\n",
      "License: Apache 2.0\n",
      "Location: /Users/smatcha/anaconda3/lib/python3.11/site-packages\n",
      "Requires: tensorflow-macos\n",
      "Required-by: \n"
     ]
    }
   ],
   "source": [
    "!pip show tensorflow"
   ]
  },
  {
   "cell_type": "code",
   "execution_count": 6,
   "metadata": {},
   "outputs": [
    {
     "name": "stdout",
     "output_type": "stream",
     "text": [
      "Downloading data from https://storage.googleapis.com/tensorflow/tf-keras-datasets/train-labels-idx1-ubyte.gz\n",
      "29515/29515 [==============================] - 0s 0us/step\n",
      "Downloading data from https://storage.googleapis.com/tensorflow/tf-keras-datasets/train-images-idx3-ubyte.gz\n",
      "26421880/26421880 [==============================] - 2s 0us/step\n",
      "Downloading data from https://storage.googleapis.com/tensorflow/tf-keras-datasets/t10k-labels-idx1-ubyte.gz\n",
      "5148/5148 [==============================] - 0s 0us/step\n",
      "Downloading data from https://storage.googleapis.com/tensorflow/tf-keras-datasets/t10k-images-idx3-ubyte.gz\n",
      "4422102/4422102 [==============================] - 0s 0us/step\n"
     ]
    }
   ],
   "source": [
    "fashion_mnist = keras.datasets.fashion_mnist\n",
    "(X_train_full, y_train_full), (X_test, y_test) = fashion_mnist.load_data()"
   ]
  },
  {
   "cell_type": "code",
   "execution_count": 8,
   "metadata": {},
   "outputs": [
    {
     "name": "stdout",
     "output_type": "stream",
     "text": [
      "(60000, 28, 28) uint8\n"
     ]
    }
   ],
   "source": [
    "print(X_train_full.shape,X_train_full.dtype)"
   ]
  },
  {
   "cell_type": "code",
   "execution_count": 9,
   "metadata": {},
   "outputs": [],
   "source": [
    "X_valid, X_train = X_train_full[:5000] / 255.0, X_train_full[5000:] / 255.0"
   ]
  },
  {
   "cell_type": "code",
   "execution_count": 10,
   "metadata": {},
   "outputs": [],
   "source": [
    "#Validation set with scaling\n",
    "X_valid, X_train = X_train_full[:5000] / 255.0, X_train_full[5000:] / 255.0\n",
    "y_valid, y_train = y_train_full[:5000], y_train_full[5000:]"
   ]
  },
  {
   "cell_type": "code",
   "execution_count": 11,
   "metadata": {},
   "outputs": [],
   "source": [
    "class_names = [\"T-shirt/top\", \"Trouser\", \"Pullover\", \"Dress\", \"Coat\",\n",
    "\"Sandal\", \"Shirt\", \"Sneaker\", \"Bag\", \"Ankle boot\"]"
   ]
  },
  {
   "cell_type": "code",
   "execution_count": 12,
   "metadata": {},
   "outputs": [
    {
     "data": {
      "text/plain": [
       "'Coat'"
      ]
     },
     "execution_count": 12,
     "metadata": {},
     "output_type": "execute_result"
    }
   ],
   "source": [
    "class_names[y_train[0]]"
   ]
  },
  {
   "cell_type": "code",
   "execution_count": 13,
   "metadata": {},
   "outputs": [],
   "source": [
    "model = keras.models.Sequential()\n",
    "model.add(keras.layers.Flatten(input_shape=[28, 28]))\n",
    "model.add(keras.layers.Dense(300, activation=\"relu\"))\n",
    "model.add(keras.layers.Dense(100, activation=\"relu\"))\n",
    "model.add(keras.layers.Dense(10, activation=\"softmax\"))"
   ]
  },
  {
   "cell_type": "code",
   "execution_count": 15,
   "metadata": {},
   "outputs": [
    {
     "name": "stdout",
     "output_type": "stream",
     "text": [
      "Model: \"sequential\"\n",
      "_________________________________________________________________\n",
      " Layer (type)                Output Shape              Param #   \n",
      "=================================================================\n",
      " flatten (Flatten)           (None, 784)               0         \n",
      "                                                                 \n",
      " dense (Dense)               (None, 300)               235500    \n",
      "                                                                 \n",
      " dense_1 (Dense)             (None, 100)               30100     \n",
      "                                                                 \n",
      " dense_2 (Dense)             (None, 10)                1010      \n",
      "                                                                 \n",
      "=================================================================\n",
      "Total params: 266610 (1.02 MB)\n",
      "Trainable params: 266610 (1.02 MB)\n",
      "Non-trainable params: 0 (0.00 Byte)\n",
      "_________________________________________________________________\n"
     ]
    }
   ],
   "source": [
    "model.summary"
   ]
  },
  {
   "cell_type": "code",
   "execution_count": 27,
   "metadata": {},
   "outputs": [],
   "source": [
    "weights,biases=model.layers[1].get_weights()"
   ]
  },
  {
   "cell_type": "code",
   "execution_count": 29,
   "metadata": {},
   "outputs": [
    {
     "data": {
      "text/plain": [
       "array([0., 0., 0., 0., 0., 0., 0., 0., 0., 0., 0., 0., 0., 0., 0., 0., 0.,\n",
       "       0., 0., 0., 0., 0., 0., 0., 0., 0., 0., 0., 0., 0., 0., 0., 0., 0.,\n",
       "       0., 0., 0., 0., 0., 0., 0., 0., 0., 0., 0., 0., 0., 0., 0., 0., 0.,\n",
       "       0., 0., 0., 0., 0., 0., 0., 0., 0., 0., 0., 0., 0., 0., 0., 0., 0.,\n",
       "       0., 0., 0., 0., 0., 0., 0., 0., 0., 0., 0., 0., 0., 0., 0., 0., 0.,\n",
       "       0., 0., 0., 0., 0., 0., 0., 0., 0., 0., 0., 0., 0., 0., 0., 0., 0.,\n",
       "       0., 0., 0., 0., 0., 0., 0., 0., 0., 0., 0., 0., 0., 0., 0., 0., 0.,\n",
       "       0., 0., 0., 0., 0., 0., 0., 0., 0., 0., 0., 0., 0., 0., 0., 0., 0.,\n",
       "       0., 0., 0., 0., 0., 0., 0., 0., 0., 0., 0., 0., 0., 0., 0., 0., 0.,\n",
       "       0., 0., 0., 0., 0., 0., 0., 0., 0., 0., 0., 0., 0., 0., 0., 0., 0.,\n",
       "       0., 0., 0., 0., 0., 0., 0., 0., 0., 0., 0., 0., 0., 0., 0., 0., 0.,\n",
       "       0., 0., 0., 0., 0., 0., 0., 0., 0., 0., 0., 0., 0., 0., 0., 0., 0.,\n",
       "       0., 0., 0., 0., 0., 0., 0., 0., 0., 0., 0., 0., 0., 0., 0., 0., 0.,\n",
       "       0., 0., 0., 0., 0., 0., 0., 0., 0., 0., 0., 0., 0., 0., 0., 0., 0.,\n",
       "       0., 0., 0., 0., 0., 0., 0., 0., 0., 0., 0., 0., 0., 0., 0., 0., 0.,\n",
       "       0., 0., 0., 0., 0., 0., 0., 0., 0., 0., 0., 0., 0., 0., 0., 0., 0.,\n",
       "       0., 0., 0., 0., 0., 0., 0., 0., 0., 0., 0., 0., 0., 0., 0., 0., 0.,\n",
       "       0., 0., 0., 0., 0., 0., 0., 0., 0., 0., 0.], dtype=float32)"
      ]
     },
     "execution_count": 29,
     "metadata": {},
     "output_type": "execute_result"
    }
   ],
   "source": [
    "biases"
   ]
  },
  {
   "cell_type": "code",
   "execution_count": 30,
   "metadata": {},
   "outputs": [],
   "source": [
    "model.compile(loss=\"sparse_categorical_crossentropy\",\n",
    "optimizer=\"sgd\",\n",
    "metrics=[\"accuracy\"])"
   ]
  },
  {
   "cell_type": "code",
   "execution_count": 31,
   "metadata": {},
   "outputs": [
    {
     "name": "stdout",
     "output_type": "stream",
     "text": [
      "Epoch 1/30\n",
      "1719/1719 [==============================] - 2s 961us/step - loss: 0.7153 - accuracy: 0.7661 - val_loss: 0.5172 - val_accuracy: 0.8216\n",
      "Epoch 2/30\n",
      "1719/1719 [==============================] - 2s 889us/step - loss: 0.4882 - accuracy: 0.8291 - val_loss: 0.5350 - val_accuracy: 0.8062\n",
      "Epoch 3/30\n",
      "1719/1719 [==============================] - 1s 869us/step - loss: 0.4466 - accuracy: 0.8424 - val_loss: 0.4480 - val_accuracy: 0.8416\n",
      "Epoch 4/30\n",
      "1719/1719 [==============================] - 2s 874us/step - loss: 0.4187 - accuracy: 0.8526 - val_loss: 0.4116 - val_accuracy: 0.8606\n",
      "Epoch 5/30\n",
      "1719/1719 [==============================] - 2s 1ms/step - loss: 0.4010 - accuracy: 0.8596 - val_loss: 0.3845 - val_accuracy: 0.8694\n",
      "Epoch 6/30\n",
      "1719/1719 [==============================] - 2s 880us/step - loss: 0.3844 - accuracy: 0.8662 - val_loss: 0.3694 - val_accuracy: 0.8708\n",
      "Epoch 7/30\n",
      "1719/1719 [==============================] - 1s 851us/step - loss: 0.3702 - accuracy: 0.8700 - val_loss: 0.3669 - val_accuracy: 0.8760\n",
      "Epoch 8/30\n",
      "1719/1719 [==============================] - 2s 978us/step - loss: 0.3590 - accuracy: 0.8730 - val_loss: 0.3596 - val_accuracy: 0.8728\n",
      "Epoch 9/30\n",
      "1719/1719 [==============================] - 2s 1ms/step - loss: 0.3486 - accuracy: 0.8763 - val_loss: 0.3492 - val_accuracy: 0.8738\n",
      "Epoch 10/30\n",
      "1719/1719 [==============================] - 2s 1ms/step - loss: 0.3389 - accuracy: 0.8797 - val_loss: 0.3413 - val_accuracy: 0.8786\n",
      "Epoch 11/30\n",
      "1719/1719 [==============================] - 2s 1ms/step - loss: 0.3308 - accuracy: 0.8808 - val_loss: 0.3354 - val_accuracy: 0.8810\n",
      "Epoch 12/30\n",
      "1719/1719 [==============================] - 1s 803us/step - loss: 0.3225 - accuracy: 0.8844 - val_loss: 0.3386 - val_accuracy: 0.8798\n",
      "Epoch 13/30\n",
      "1719/1719 [==============================] - 2s 891us/step - loss: 0.3139 - accuracy: 0.8875 - val_loss: 0.3264 - val_accuracy: 0.8826\n",
      "Epoch 14/30\n",
      "1719/1719 [==============================] - 2s 956us/step - loss: 0.3072 - accuracy: 0.8901 - val_loss: 0.3285 - val_accuracy: 0.8820\n",
      "Epoch 15/30\n",
      "1719/1719 [==============================] - 2s 911us/step - loss: 0.3007 - accuracy: 0.8925 - val_loss: 0.3220 - val_accuracy: 0.8834\n",
      "Epoch 16/30\n",
      "1719/1719 [==============================] - 1s 822us/step - loss: 0.2945 - accuracy: 0.8941 - val_loss: 0.3239 - val_accuracy: 0.8856\n",
      "Epoch 17/30\n",
      "1719/1719 [==============================] - 2s 885us/step - loss: 0.2879 - accuracy: 0.8957 - val_loss: 0.3225 - val_accuracy: 0.8874\n",
      "Epoch 18/30\n",
      "1719/1719 [==============================] - 2s 1ms/step - loss: 0.2831 - accuracy: 0.8969 - val_loss: 0.3213 - val_accuracy: 0.8842\n",
      "Epoch 19/30\n",
      "1719/1719 [==============================] - 2s 944us/step - loss: 0.2775 - accuracy: 0.8994 - val_loss: 0.3182 - val_accuracy: 0.8874\n",
      "Epoch 20/30\n",
      "1719/1719 [==============================] - 2s 902us/step - loss: 0.2710 - accuracy: 0.9027 - val_loss: 0.3097 - val_accuracy: 0.8886\n",
      "Epoch 21/30\n",
      "1719/1719 [==============================] - 2s 1ms/step - loss: 0.2679 - accuracy: 0.9040 - val_loss: 0.3041 - val_accuracy: 0.8902\n",
      "Epoch 22/30\n",
      "1719/1719 [==============================] - 2s 924us/step - loss: 0.2624 - accuracy: 0.9047 - val_loss: 0.3215 - val_accuracy: 0.8862\n",
      "Epoch 23/30\n",
      "1719/1719 [==============================] - 2s 889us/step - loss: 0.2572 - accuracy: 0.9065 - val_loss: 0.3036 - val_accuracy: 0.8876\n",
      "Epoch 24/30\n",
      "1719/1719 [==============================] - 2s 894us/step - loss: 0.2530 - accuracy: 0.9089 - val_loss: 0.3025 - val_accuracy: 0.8900\n",
      "Epoch 25/30\n",
      "1719/1719 [==============================] - 2s 888us/step - loss: 0.2485 - accuracy: 0.9108 - val_loss: 0.3073 - val_accuracy: 0.8888\n",
      "Epoch 26/30\n",
      "1719/1719 [==============================] - 1s 857us/step - loss: 0.2447 - accuracy: 0.9121 - val_loss: 0.2978 - val_accuracy: 0.8896\n",
      "Epoch 27/30\n",
      "1719/1719 [==============================] - 2s 885us/step - loss: 0.2411 - accuracy: 0.9138 - val_loss: 0.3073 - val_accuracy: 0.8920\n",
      "Epoch 28/30\n",
      "1719/1719 [==============================] - 2s 903us/step - loss: 0.2369 - accuracy: 0.9148 - val_loss: 0.3014 - val_accuracy: 0.8924\n",
      "Epoch 29/30\n",
      "1719/1719 [==============================] - 2s 895us/step - loss: 0.2325 - accuracy: 0.9167 - val_loss: 0.3103 - val_accuracy: 0.8880\n",
      "Epoch 30/30\n",
      "1719/1719 [==============================] - 2s 891us/step - loss: 0.2286 - accuracy: 0.9186 - val_loss: 0.3287 - val_accuracy: 0.8822\n"
     ]
    }
   ],
   "source": [
    "history = model.fit(X_train, y_train, epochs=30,validation_data=(X_valid, y_valid))"
   ]
  },
  {
   "cell_type": "code",
   "execution_count": 32,
   "metadata": {},
   "outputs": [
    {
     "data": {
      "image/png": "[encoded data removed]",
      "text/plain": [
       "<Figure size 800x500 with 1 Axes>"
      ]
     },
     "metadata": {},
     "output_type": "display_data"
    }
   ],
   "source": [
    "import pandas as pd\n",
    "import matplotlib.pyplot as plt\n",
    "pd.DataFrame(history.history).plot(figsize=(8, 5))\n",
    "plt.grid(True)\n",
    "plt.gca().set_ylim(0, 1) # set the vertical range to [0-1]\n",
    "plt.show()"
   ]
  },
  {
   "cell_type": "code",
   "execution_count": 33,
   "metadata": {},
   "outputs": [],
   "source": [
    "from sklearn.datasets import fetch_california_housing\n",
    "from sklearn.model_selection import train_test_split\n",
    "from sklearn.preprocessing import StandardScaler"
   ]
  },
  {
   "cell_type": "code",
   "execution_count": 34,
   "metadata": {},
   "outputs": [],
   "source": [
    "housing = fetch_california_housing()\n",
    "X_train_full, X_test, y_train_full, y_test = train_test_split(\n",
    "housing.data, housing.target)\n",
    "X_train, X_valid, y_train, y_valid = train_test_split(\n",
    "X_train_full, y_train_full)\n",
    "scaler = StandardScaler()\n",
    "X_train = scaler.fit_transform(X_train)\n",
    "X_valid = scaler.transform(X_valid)\n",
    "X_test = scaler.transform(X_test)"
   ]
  },
  {
   "cell_type": "code",
   "execution_count": 35,
   "metadata": {},
   "outputs": [
    {
     "name": "stdout",
     "output_type": "stream",
     "text": [
      "Epoch 1/20\n",
      "363/363 [==============================] - 0s 536us/step - loss: 1.5301 - val_loss: 0.5916\n",
      "Epoch 2/20\n",
      "363/363 [==============================] - 0s 423us/step - loss: 0.5497 - val_loss: 0.4875\n",
      "Epoch 3/20\n",
      "363/363 [==============================] - 0s 441us/step - loss: 0.4777 - val_loss: 0.4695\n",
      "Epoch 4/20\n",
      "363/363 [==============================] - 0s 431us/step - loss: 0.4425 - val_loss: 0.4757\n",
      "Epoch 5/20\n",
      "363/363 [==============================] - 0s 426us/step - loss: 0.4208 - val_loss: 0.6938\n",
      "Epoch 6/20\n",
      "363/363 [==============================] - 0s 416us/step - loss: 0.4278 - val_loss: 0.4285\n",
      "Epoch 7/20\n",
      "363/363 [==============================] - 0s 410us/step - loss: 0.4151 - val_loss: 0.4279\n",
      "Epoch 8/20\n",
      "363/363 [==============================] - 0s 409us/step - loss: 0.4003 - val_loss: 0.4184\n",
      "Epoch 9/20\n",
      "363/363 [==============================] - 0s 424us/step - loss: 0.4059 - val_loss: 0.4115\n",
      "Epoch 10/20\n",
      "363/363 [==============================] - 0s 415us/step - loss: 0.4102 - val_loss: 0.5229\n",
      "Epoch 11/20\n",
      "363/363 [==============================] - 0s 428us/step - loss: 0.5915 - val_loss: 0.4706\n",
      "Epoch 12/20\n",
      "363/363 [==============================] - 0s 516us/step - loss: 0.4417 - val_loss: 0.4377\n",
      "Epoch 13/20\n",
      "363/363 [==============================] - 0s 428us/step - loss: 0.4378 - val_loss: 0.4449\n",
      "Epoch 14/20\n",
      "363/363 [==============================] - 0s 423us/step - loss: 0.4107 - val_loss: 0.4216\n",
      "Epoch 15/20\n",
      "363/363 [==============================] - 0s 431us/step - loss: 0.3938 - val_loss: 0.4075\n",
      "Epoch 16/20\n",
      "363/363 [==============================] - 0s 422us/step - loss: 0.3841 - val_loss: 0.4018\n",
      "Epoch 17/20\n",
      "363/363 [==============================] - 0s 426us/step - loss: 0.3835 - val_loss: 0.4752\n",
      "Epoch 18/20\n",
      "363/363 [==============================] - 0s 427us/step - loss: 0.3954 - val_loss: 0.4071\n",
      "Epoch 19/20\n",
      "363/363 [==============================] - 0s 423us/step - loss: 0.3760 - val_loss: 0.3905\n",
      "Epoch 20/20\n",
      "363/363 [==============================] - 0s 420us/step - loss: 0.3692 - val_loss: 0.3836\n",
      "162/162 [==============================] - 0s 282us/step - loss: 0.4001\n",
      "1/1 [==============================] - 0s 39ms/step\n"
     ]
    }
   ],
   "source": [
    "model = keras.models.Sequential([\n",
    "keras.layers.Dense(30, activation=\"relu\", input_shape=X_train.shape[1:]),\n",
    "keras.layers.Dense(1)\n",
    "])\n",
    "model.compile(loss=\"mean_squared_error\", optimizer=\"sgd\")\n",
    "history = model.fit(X_train, y_train, epochs=20,\n",
    "validation_data=(X_valid, y_valid))\n",
    "mse_test = model.evaluate(X_test, y_test)\n",
    "X_new = X_test[:3] # pretend these are new instances\n",
    "y_pred = model.predict(X_new)"
   ]
  },
  {
   "cell_type": "code",
   "execution_count": 36,
   "metadata": {},
   "outputs": [],
   "source": [
    "input_ = keras.layers.Input(shape=X_train.shape[1:])\n",
    "hidden1 = keras.layers.Dense(30, activation=\"relu\")(input_)\n",
    "hidden2 = keras.layers.Dense(30, activation=\"relu\")(hidden1)\n",
    "concat = keras.layers.Concatenate()([input_, hidden2])\n",
    "output = keras.layers.Dense(1)(concat)\n",
    "model = keras.Model(inputs=[input_], outputs=[output])"
   ]
  },
  {
   "cell_type": "code",
   "execution_count": null,
   "metadata": {},
   "outputs": [],
   "source": []
  }
 ],
 "metadata": {
  "kernelspec": {
   "display_name": "base",
   "language": "python",
   "name": "python3"
  },
  "language_info": {
   "codemirror_mode": {
    "name": "ipython",
    "version": 3
   },
   "file_extension": ".py",
   "mimetype": "text/x-python",
   "name": "python",
   "nbconvert_exporter": "python",
   "pygments_lexer": "ipython3",
   "version": "3.11.5"
  },
  "orig_nbformat": 4
 },
 "nbformat": 4,
 "nbformat_minor": 2
}
